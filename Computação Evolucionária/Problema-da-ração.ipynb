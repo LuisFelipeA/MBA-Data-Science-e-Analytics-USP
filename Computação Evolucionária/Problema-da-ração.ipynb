{
 "cells": [
  {
   "cell_type": "markdown",
   "id": "50ee1916",
   "metadata": {},
   "source": [
    "# Problema da mistura - Ração"
   ]
  },
  {
   "cell_type": "markdown",
   "id": "8db75cc2",
   "metadata": {},
   "source": [
    "## Descrição"
   ]
  },
  {
   "cell_type": "markdown",
   "id": "09aba1e7",
   "metadata": {},
   "source": [
    "Uma empresa de ração animal deseja produzir um alimento balanceado, combinando trêsingredientes principais:\n",
    "• Osso\n",
    "• Soja\n",
    "• Resto de peixe\n",
    "\n",
    "Cada ingrediente contém diferentes quantidades de dois nutrientes necessários: proteína, cálcio.\n",
    "\n",
    "Objetivo: Minimizar o custo total da mistura, atendendo às exigências nutricionaismínimas (proteína, cálcio)\n",
    "\n",
    "Quais são as quantidades ideais de cada ingrediente para fazer uma quantidade de ração, com asnecessidades nutricionais atendidas e o custo total dos ingredientes seja o menor possível?\n",
    "Ingredientes:\n",
    "Osso: R$ 0,56/kg – x1 (variáveis de decisão)\n",
    "Soja: R$ 0,81/kg – x2 (variáveis de decisão)\n",
    "Resto de peixe: R$ 0,46/kg – x3 (variáveis de decisão)\n",
    "\n",
    "Função Objetivo: Minimizar a quantidade de osso, soja e peixe presentes na ração (minimizar custo de produção)\n",
    "\n",
    "Restrições Nutricionais (Exigências mínimas por kg de ração):\n",
    "Mínimo de 30% de proteína e 50% de cálcio\n",
    "\n",
    "Composição (por kg):\n",
    "Osso: 20% de proteína e 60% de cálcio\n",
    "Soja: 50% de proteína e 40% de cálcio\n",
    "Peixe: 40% de proteína e 40% de cálcio"
   ]
  },
  {
   "cell_type": "markdown",
   "id": "eb2b328e",
   "metadata": {},
   "source": [
    "## Resolução"
   ]
  },
  {
   "cell_type": "markdown",
   "id": "40b90dc4",
   "metadata": {},
   "source": [
    "### Opção 1"
   ]
  },
  {
   "cell_type": "code",
   "execution_count": 1,
   "id": "039b127a",
   "metadata": {},
   "outputs": [],
   "source": [
    "import pulp"
   ]
  },
  {
   "cell_type": "code",
   "execution_count": 2,
   "id": "835d6c9f",
   "metadata": {},
   "outputs": [],
   "source": [
    "# Criar problema de minimização\n",
    "prob = pulp.LpProblem(\"Racao_Animal\", pulp.LpMinimize)\n",
    "\n",
    "# Variáveis de decisão\n",
    "x1 = pulp.LpVariable(\"Osso\", lowBound=0)\n",
    "x2 = pulp.LpVariable(\"Soja\", lowBound=0)\n",
    "x3 = pulp.LpVariable(\"Peixe\", lowBound=0)"
   ]
  },
  {
   "cell_type": "code",
   "execution_count": 3,
   "id": "4abd5753",
   "metadata": {},
   "outputs": [
    {
     "data": {
      "text/plain": [
       "1"
      ]
     },
     "execution_count": 3,
     "metadata": {},
     "output_type": "execute_result"
    }
   ],
   "source": [
    "# Função objetivo\n",
    "\n",
    "prob += 0.56 * x1 + 0.81 * x2 + 0.46 * x3, \"Custo_Total\"\n",
    "\n",
    "# Restrições\n",
    "prob += 0.2 * x1 + 0.5 * x2 + 0.4 * x3 >= 0.3, \"Proteina_Minima\"\n",
    "prob += 0.6 * x1 + 0.4 * x2 + 0.4 * x3 >= 0.5, \"Calcio_Minimo\"\n",
    "prob += x1 + x2 + x3 == 1, \"Soma_Ingredientes\"\n",
    "\n",
    "# Resolver\n",
    "prob.solve(pulp.PULP_CBC_CMD(msg=0))"
   ]
  },
  {
   "cell_type": "code",
   "execution_count": 5,
   "id": "5931bdfd",
   "metadata": {},
   "outputs": [
    {
     "name": "stdout",
     "output_type": "stream",
     "text": [
      " - PULP - RESULTADO:\n",
      "Status: Optimal\n",
      "Custos mínimo: $0.51\n",
      "Osso: 0.500 kg (50.0%)\n",
      "Soja: 0.000 kg (0.0%)\n",
      "Peixe: 0.500 kg (50.0%)\n"
     ]
    }
   ],
   "source": [
    "# Apresentar os resultados\n",
    "print(\" - PULP - RESULTADO:\")\n",
    "print(f\"Status: {pulp.LpStatus[prob.status]}\")\n",
    "print(f\"Custos mínimo: ${pulp.value(prob.objective):.2f}\")\n",
    "print(f\"Osso: {x1.varValue:.3f} kg ({x1.varValue:.1%})\")\n",
    "print(f\"Soja: {x2.varValue:.3f} kg ({x2.varValue:.1%})\")\n",
    "print(f\"Peixe: {x3.varValue:.3f} kg ({x3.varValue:.1%})\")"
   ]
  },
  {
   "cell_type": "markdown",
   "id": "0953897c",
   "metadata": {},
   "source": [
    "### Opção 2"
   ]
  }
 ],
 "metadata": {
  "kernelspec": {
   "display_name": "Python 3",
   "language": "python",
   "name": "python3"
  },
  "language_info": {
   "codemirror_mode": {
    "name": "ipython",
    "version": 3
   },
   "file_extension": ".py",
   "mimetype": "text/x-python",
   "name": "python",
   "nbconvert_exporter": "python",
   "pygments_lexer": "ipython3",
   "version": "3.10.0"
  }
 },
 "nbformat": 4,
 "nbformat_minor": 5
}
