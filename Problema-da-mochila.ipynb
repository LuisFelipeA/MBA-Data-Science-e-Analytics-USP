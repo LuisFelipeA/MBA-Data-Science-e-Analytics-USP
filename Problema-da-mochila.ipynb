{
 "cells": [
  {
   "cell_type": "markdown",
   "id": "8d3d8833",
   "metadata": {},
   "source": [
    "# Problema da mochila"
   ]
  },
  {
   "cell_type": "markdown",
   "id": "e15f6b5d",
   "metadata": {},
   "source": [
    "### Descrição"
   ]
  },
  {
   "cell_type": "markdown",
   "id": "4e2e5ed5",
   "metadata": {},
   "source": [
    "Maximizar o valor de uma mochila de forma que a quantidade de itens colocados não exceda seu limitede peso.\n",
    "\n",
    "Um alpinista deseja escolher quais objetos carregar na mochila a fim de maximizar a sua utilidade. Paracada possível objeto, o alpinista atribui uma nota em função de sua utilidade (ver tabela). O peso de cadaobjeto também está ilustrado na tabela. O peso máximo que o alpinista pode carregar é de 5 kg. Modele oproblema da mochila.\n",
    "\n",
    "| Objeto                | Utilidade (vi) | Peso (g) (wi) |\n",
    "|-----------------------|----------------|---------------|\n",
    "| Barra de cereal       | 5              | 200           |\n",
    "| Casaco                | 7              | 400           |\n",
    "| Tênis                 | 3              | 400           |\n",
    "| Celular               | 2              | 100           |\n",
    "| Água                  | 9              | 1.000         |\n",
    "| Protetor solar        | 5              | 200           |\n",
    "| Protetor labial       | 2              | 30            |\n",
    "| Garrafas de oxigênio  | 10             | 3.000         |\n",
    "| Máquina fotográfica   | 5              | 500           |"
   ]
  }
 ],
 "metadata": {
  "kernelspec": {
   "display_name": "Python 3",
   "language": "python",
   "name": "python3"
  },
  "language_info": {
   "codemirror_mode": {
    "name": "ipython",
    "version": 3
   },
   "file_extension": ".py",
   "mimetype": "text/x-python",
   "name": "python",
   "nbconvert_exporter": "python",
   "pygments_lexer": "ipython3",
   "version": "3.10.0"
  }
 },
 "nbformat": 4,
 "nbformat_minor": 5
}
